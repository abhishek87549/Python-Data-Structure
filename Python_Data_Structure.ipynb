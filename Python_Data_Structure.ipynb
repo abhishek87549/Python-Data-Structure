{
  "nbformat": 4,
  "nbformat_minor": 0,
  "metadata": {
    "colab": {
      "provenance": []
    },
    "kernelspec": {
      "name": "python3",
      "display_name": "Python 3"
    },
    "language_info": {
      "name": "python"
    }
  },
  "cells": [
    {
      "cell_type": "markdown",
      "source": [
        "#Theory Questions & Answers\n"
      ],
      "metadata": {
        "id": "9QJ35cebX2_u"
      }
    },
    {
      "cell_type": "markdown",
      "source": [
        "###1. What are data structures, and why are they important?\n"
      ],
      "metadata": {
        "id": "eW3UHNvM8YH1"
      }
    },
    {
      "cell_type": "markdown",
      "source": [
        "Data structures are ways of organizing and storing data in a computer so it can be accessed and modified efficiently. They’re important because without them, your programs would be like a pile of laundry on the floor—technically everything’s there, but good luck finding your left sock."
      ],
      "metadata": {
        "id": "I5PSD96I8aSF"
      }
    },
    {
      "cell_type": "markdown",
      "source": [
        "###2. Explain the difference between mutable and immutable data types (with examples)"
      ],
      "metadata": {
        "id": "UQrWWh5V8m_V"
      }
    },
    {
      "cell_type": "markdown",
      "source": [
        "Mutable: Can be changed after creation (e.g., list, dict, set)"
      ],
      "metadata": {
        "id": "LrNEqbLS8uBU"
      }
    },
    {
      "cell_type": "code",
      "source": [
        "l = [1, 2]\n",
        "l.append(3)\n"
      ],
      "metadata": {
        "id": "m4L7uSOB81CO"
      },
      "execution_count": null,
      "outputs": []
    },
    {
      "cell_type": "markdown",
      "source": [
        "Immutable: Cannot be changed once created (e.g., str, tuple)"
      ],
      "metadata": {
        "id": "0th8kJr188sV"
      }
    },
    {
      "cell_type": "code",
      "source": [
        "s = \"hello\"\n",
        "s[0] = \"H\"\n"
      ],
      "metadata": {
        "colab": {
          "base_uri": "https://localhost:8080/",
          "height": 158
        },
        "id": "iht1LgLu89of",
        "outputId": "5628c34b-0fdb-427b-bee5-ef3fa453372f"
      },
      "execution_count": null,
      "outputs": [
        {
          "output_type": "error",
          "ename": "TypeError",
          "evalue": "'str' object does not support item assignment",
          "traceback": [
            "\u001b[0;31m---------------------------------------------------------------------------\u001b[0m",
            "\u001b[0;31mTypeError\u001b[0m                                 Traceback (most recent call last)",
            "\u001b[0;32m<ipython-input-2-91ee6914cc54>\u001b[0m in \u001b[0;36m<cell line: 0>\u001b[0;34m()\u001b[0m\n\u001b[1;32m      1\u001b[0m \u001b[0ms\u001b[0m \u001b[0;34m=\u001b[0m \u001b[0;34m\"hello\"\u001b[0m\u001b[0;34m\u001b[0m\u001b[0;34m\u001b[0m\u001b[0m\n\u001b[0;32m----> 2\u001b[0;31m \u001b[0ms\u001b[0m\u001b[0;34m[\u001b[0m\u001b[0;36m0\u001b[0m\u001b[0;34m]\u001b[0m \u001b[0;34m=\u001b[0m \u001b[0;34m\"H\"\u001b[0m  \u001b[0;31m# ❌ Error: strings are immutable\u001b[0m\u001b[0;34m\u001b[0m\u001b[0;34m\u001b[0m\u001b[0m\n\u001b[0m",
            "\u001b[0;31mTypeError\u001b[0m: 'str' object does not support item assignment"
          ]
        }
      ]
    },
    {
      "cell_type": "markdown",
      "source": [
        "###3. What are the main differences between lists and tuples in Python?\n"
      ],
      "metadata": {
        "id": "VilCcifQ9P0f"
      }
    },
    {
      "cell_type": "markdown",
      "source": [
        "List ([]): Mutable, Performance is Faster, Use Case Changing\n",
        "\n",
        "Tuple (()): Immutable, Performance is slower, Use Case Fixed Data"
      ],
      "metadata": {
        "id": "zrdSOB-w9RtU"
      }
    },
    {
      "cell_type": "markdown",
      "source": [
        "###4. Describe how dictionaries store data\n",
        "  Dictionaries use a hash table to map keys to values. Keys are hashed into indexes that point to their corresponding values. This allows for fast lookups."
      ],
      "metadata": {
        "id": "X4Z9DqA1FhRW"
      }
    },
    {
      "cell_type": "code",
      "source": [
        "my_dict = {\"name\": \"Alice\", \"age\": 30}\n"
      ],
      "metadata": {
        "id": "Tn_p7tKyUNzb"
      },
      "execution_count": 1,
      "outputs": []
    },
    {
      "cell_type": "markdown",
      "source": [
        "###5. Why might you use a set instead of a list in Python?\n",
        "- Sets automatically remove duplicates\n",
        "\n",
        "- Faster membership checks (in) than lists\n",
        "\n",
        "- Ideal when order doesn’t matter and uniqueness is important"
      ],
      "metadata": {
        "id": "yAcMGMwNFpV2"
      }
    },
    {
      "cell_type": "markdown",
      "source": [
        "###6. What is a string in Python, and how is it different from a list?\n",
        "- A string is a sequence of characters.\n",
        "\n",
        "- A list is a sequence of any data type.\n",
        "\n",
        "- Strings are immutable, lists are mutable."
      ],
      "metadata": {
        "id": "ARFF0kwqFyZ6"
      }
    },
    {
      "cell_type": "code",
      "source": [
        "s = \"abc\"     # Cannot modify s[0]\n",
        "l = ['a', 'b', 'c']  # Can modify l[0]\n"
      ],
      "metadata": {
        "id": "krTi9U7hF6eB"
      },
      "execution_count": null,
      "outputs": []
    },
    {
      "cell_type": "markdown",
      "source": [
        "###7. How do tuples ensure data integrity in Python?\n",
        "Tuples are immutable, meaning their data cannot be modified after creation—ensuring that the contents stay consistent and secure."
      ],
      "metadata": {
        "id": "rpo0VFKWGA2z"
      }
    },
    {
      "cell_type": "markdown",
      "source": [
        "###8. What is a hash table, and how does it relate to dictionaries in Python?\n",
        "A hash table stores key-value pairs by computing a hash of the key to determine where to store the value. Python dictionaries use this structure internally for O(1) access time on average."
      ],
      "metadata": {
        "id": "VrBJuZPyGETw"
      }
    },
    {
      "cell_type": "markdown",
      "source": [
        "###9. Can lists contain different data types in Python?\n",
        "Yes. Python lists are versatile:"
      ],
      "metadata": {
        "id": "fFPn9TrdGJXR"
      }
    },
    {
      "cell_type": "code",
      "source": [
        "[1, \"hello\", 3.14, True, [1, 2], {\"a\": 1}]\n"
      ],
      "metadata": {
        "colab": {
          "base_uri": "https://localhost:8080/"
        },
        "id": "fZVytP7vGo7D",
        "outputId": "1e52a4c7-55a1-4192-d2aa-3cfd5b0b326c"
      },
      "execution_count": null,
      "outputs": [
        {
          "output_type": "execute_result",
          "data": {
            "text/plain": [
              "[1, 'hello', 3.14, True, [1, 2], {'a': 1}]"
            ]
          },
          "metadata": {},
          "execution_count": 5
        }
      ]
    },
    {
      "cell_type": "markdown",
      "source": [
        "###10. Explain why are strings immutable in Python\n",
        "- Efficiency: Shared safely across code without copying\n",
        "\n",
        "- Hashability: Can be used as keys in dictionaries\n",
        "\n",
        "- Security: Prevent accidental modification"
      ],
      "metadata": {
        "id": "cM7je5dpGvTW"
      }
    },
    {
      "cell_type": "markdown",
      "source": [
        "###11. What advantages do dictionaries offer over lists for certain tasks?\n",
        "- Faster lookups by key (O(1) vs O(n))\n",
        "- Semantic clarity when storing key-value relationships (e.g., name-age pairs)\n",
        "- More meaningful access with keys vs. index numbers."
      ],
      "metadata": {
        "id": "rlEYb3bdG3ja"
      }
    },
    {
      "cell_type": "code",
      "source": [
        "user = {\"name\": \"Bob\", \"age\": 25}  # More readable than list [“Bob”, 25]\n"
      ],
      "metadata": {
        "id": "wBTHU9erVSxK"
      },
      "execution_count": 2,
      "outputs": []
    },
    {
      "cell_type": "markdown",
      "source": [
        "###12. Describe a scenario where using a tuple would be preferable over a list\n",
        "Scenario: When you want to store constant data that should not be changed.\n",
        "Example: Storing coordinates of a point (x, y) in a 2D space.\n",
        "\n",
        "\n",
        "Tuples are also hashable, so they can be used as keys in dictionaries or elements in sets, unlike lists.\n"
      ],
      "metadata": {
        "id": "4Z3779p5VaOO"
      }
    },
    {
      "cell_type": "code",
      "source": [
        "coordinates = (10, 20)  # Should remain unchanged\n"
      ],
      "metadata": {
        "id": "FymQhup9WH23"
      },
      "execution_count": 3,
      "outputs": []
    },
    {
      "cell_type": "markdown",
      "source": [
        "###13. How do sets handle duplicate values in Python\n",
        "Sets automatically remove duplicates and only store unique values.\n",
        "\n",
        "\n",
        "If you add a duplicate to a set, it will be ignored.\n",
        "\n"
      ],
      "metadata": {
        "id": "pSpwEKlqWMeC"
      }
    },
    {
      "cell_type": "code",
      "source": [
        "my_set = {1, 2, 2, 3}\n",
        "print(my_set)"
      ],
      "metadata": {
        "colab": {
          "base_uri": "https://localhost:8080/"
        },
        "id": "JGs67zWEWToy",
        "outputId": "d380110b-126c-40fd-9079-355ae448ef95"
      },
      "execution_count": 4,
      "outputs": [
        {
          "output_type": "stream",
          "name": "stdout",
          "text": [
            "{1, 2, 3}\n"
          ]
        }
      ]
    },
    {
      "cell_type": "markdown",
      "source": [
        "###14. How does the “in” keyword work differently for lists and dictionaries\n",
        "List: Checks if a value is present.\n",
        "\n",
        "Dictionary: Checks if a key is present (not the value)."
      ],
      "metadata": {
        "id": "TSUrtokxWXEG"
      }
    },
    {
      "cell_type": "code",
      "source": [
        "# List\n",
        "my_list = [1, 2, 3]\n",
        "print(2 in my_list)"
      ],
      "metadata": {
        "colab": {
          "base_uri": "https://localhost:8080/"
        },
        "id": "a1Hct-g3WdoP",
        "outputId": "c7f972e3-6602-4c19-d1eb-4f01c457df08"
      },
      "execution_count": 5,
      "outputs": [
        {
          "output_type": "stream",
          "name": "stdout",
          "text": [
            "True\n"
          ]
        }
      ]
    },
    {
      "cell_type": "code",
      "source": [
        "# Dictionary\n",
        "my_dict = {\"a\": 1, \"b\": 2}\n",
        "print(\"a\" in my_dict)\n",
        "print(1 in my_dict)"
      ],
      "metadata": {
        "colab": {
          "base_uri": "https://localhost:8080/"
        },
        "id": "k3r7ZOZ8WjSJ",
        "outputId": "a14f9885-3989-4bd1-c3dc-c6d36515007e"
      },
      "execution_count": 6,
      "outputs": [
        {
          "output_type": "stream",
          "name": "stdout",
          "text": [
            "True\n",
            "False\n"
          ]
        }
      ]
    },
    {
      "cell_type": "markdown",
      "source": [
        "###15. Can you modify the elements of a tuple? Explain why or why not\n",
        "No, tuples are immutable. Once created, their elements cannot be changed.\n",
        "\n",
        "\n",
        "This immutability ensures data integrity and makes tuples hashable.\n",
        "\n"
      ],
      "metadata": {
        "id": "5oR1qJqcWpDi"
      }
    },
    {
      "cell_type": "code",
      "source": [
        "my_tuple = (1, 2, 3)\n",
        "# my_tuple[0] = 10 → This will raise a TypeError\n"
      ],
      "metadata": {
        "id": "MiJY7GFFWzOl"
      },
      "execution_count": 7,
      "outputs": []
    },
    {
      "cell_type": "markdown",
      "source": [
        "###16. What is a nested dictionary, and give an example of its use case\n",
        "A nested dictionary is a dictionary inside another dictionary.\n",
        "\n",
        "Example: Representing a student’s profile:\n",
        "\n",
        "\n",
        "Use Case: Organizing complex data like configurations, JSON data, or structured records.\n",
        "\n"
      ],
      "metadata": {
        "id": "bmIfP9JlW4W6"
      }
    },
    {
      "cell_type": "code",
      "source": [
        "student = {\n",
        "    \"name\": \"Alice\",\n",
        "    \"grades\": {\n",
        "        \"math\": 90,\n",
        "        \"science\": 85\n",
        "    }\n",
        "}\n"
      ],
      "metadata": {
        "id": "Qyf_EVZsW-WQ"
      },
      "execution_count": 8,
      "outputs": []
    },
    {
      "cell_type": "markdown",
      "source": [
        "###17. Describe the time complexity of accessing elements in a dictionary\n",
        "Average case: O(1) - very fast due to hash table implementation.\n",
        "\n",
        "Worst case: O(n) - rare, happens if many hash collisions occur.\n",
        "\n",
        "In practice, dictionary lookups are generally very efficient."
      ],
      "metadata": {
        "id": "B1EItO0jXEJc"
      }
    },
    {
      "cell_type": "markdown",
      "source": [
        "###18. In what situations are lists preferred over dictionaries\n",
        "Use lists when:\n",
        "\n",
        "- Order matters.\n",
        "\n",
        "- You need to access items by index.\n",
        "\n",
        "- You don’t need key-value pairs.\n",
        "\n",
        "- You're working with sequential or numerical data.\n",
        "\n",
        "Example: Storing a sequence of scores:"
      ],
      "metadata": {
        "id": "a_XvA0fzXM9n"
      }
    },
    {
      "cell_type": "code",
      "source": [
        "scores = [95, 87, 90]\n"
      ],
      "metadata": {
        "id": "V__U9qeGXUGC"
      },
      "execution_count": 9,
      "outputs": []
    },
    {
      "cell_type": "markdown",
      "source": [
        "###19. Why are dictionaries considered unordered, and how does that affect data retrieval\n",
        "Before Python 3.7, dictionaries did not preserve insertion order. So, iterating over them didn’t guarantee a specific sequence.\n",
        "\n",
        "From Python 3.7+, they preserve insertion order, but conceptually they are unordered—meaning you should not rely on key order for logic.\n",
        "\n",
        "It doesn’t affect data retrieval by key (which is always fast), but it matters if you're looping through items."
      ],
      "metadata": {
        "id": "2kuVUupeXX4q"
      }
    },
    {
      "cell_type": "markdown",
      "source": [
        "###20. Explain the difference between a list and a dictionary in terms of data retrieval\n",
        "List: Retrieve data by index (numerical position)."
      ],
      "metadata": {
        "id": "-ehch4_fXedg"
      }
    },
    {
      "cell_type": "code",
      "source": [
        "names = [\"Alice\", \"Bob\"]\n",
        "print(names[0])\n"
      ],
      "metadata": {
        "colab": {
          "base_uri": "https://localhost:8080/"
        },
        "id": "eqi-5pEsXg8s",
        "outputId": "809cae93-81f3-43a6-efa2-98d7809e65a7"
      },
      "execution_count": 10,
      "outputs": [
        {
          "output_type": "stream",
          "name": "stdout",
          "text": [
            "Alice\n"
          ]
        }
      ]
    },
    {
      "cell_type": "markdown",
      "source": [
        "Dictionary: Retrieve data by key (label)."
      ],
      "metadata": {
        "id": "lrPMCdVCXmVX"
      }
    },
    {
      "cell_type": "code",
      "source": [
        "user = {\"name\": \"Alice\", \"age\": 30}\n",
        "print(user[\"name\"])"
      ],
      "metadata": {
        "colab": {
          "base_uri": "https://localhost:8080/"
        },
        "id": "js9AiqUZXooX",
        "outputId": "5f2d4220-61d8-4fe8-f2d5-da0a224876ae"
      },
      "execution_count": 11,
      "outputs": [
        {
          "output_type": "stream",
          "name": "stdout",
          "text": [
            "Alice\n"
          ]
        }
      ]
    },
    {
      "cell_type": "markdown",
      "source": [
        "Use lists when position matters, and dictionaries when you want meaningful labels for your data."
      ],
      "metadata": {
        "id": "-76eB6OaXs0y"
      }
    },
    {
      "cell_type": "markdown",
      "source": [
        "#Practical Questions & Answers"
      ],
      "metadata": {
        "id": "uoKkxMdaYHOF"
      }
    },
    {
      "cell_type": "markdown",
      "source": [
        "###1. Write a code to create a string with your name and print it"
      ],
      "metadata": {
        "id": "zwvM38vIY8Mb"
      }
    },
    {
      "cell_type": "code",
      "source": [
        "name = \"Abhishek Singh Bhadauria\"\n",
        "print(name)\n"
      ],
      "metadata": {
        "colab": {
          "base_uri": "https://localhost:8080/"
        },
        "id": "QwL_0tYNY_3S",
        "outputId": "ac9ac316-b810-4cf9-c073-e2413b2ff25c"
      },
      "execution_count": 13,
      "outputs": [
        {
          "output_type": "stream",
          "name": "stdout",
          "text": [
            "Abhishek Singh Bhadauria\n"
          ]
        }
      ]
    },
    {
      "cell_type": "markdown",
      "source": [
        "###2. Write a code to find the length of the string \"Hello World\""
      ],
      "metadata": {
        "id": "SzkqrN31ZHBT"
      }
    },
    {
      "cell_type": "code",
      "source": [
        "text = \"Hello World\"\n",
        "print(len(text))\n"
      ],
      "metadata": {
        "colab": {
          "base_uri": "https://localhost:8080/"
        },
        "id": "gI-bHhgwZKCA",
        "outputId": "5e330713-b88f-4443-a64d-f50038329996"
      },
      "execution_count": 14,
      "outputs": [
        {
          "output_type": "stream",
          "name": "stdout",
          "text": [
            "11\n"
          ]
        }
      ]
    },
    {
      "cell_type": "markdown",
      "source": [
        "###3. Write a code to slice the first 3 characters from the string \"Python Programming\""
      ],
      "metadata": {
        "id": "Uuyc2TjqZQLY"
      }
    },
    {
      "cell_type": "code",
      "source": [
        "text = \"Python Programming\"\n",
        "print(text[:3])\n"
      ],
      "metadata": {
        "colab": {
          "base_uri": "https://localhost:8080/"
        },
        "id": "91q9Yl4nZTbR",
        "outputId": "2071ef56-de5e-4fe2-ad94-9f5abb60c13d"
      },
      "execution_count": 15,
      "outputs": [
        {
          "output_type": "stream",
          "name": "stdout",
          "text": [
            "Pyt\n"
          ]
        }
      ]
    },
    {
      "cell_type": "markdown",
      "source": [
        "###4. Write a code to convert the string \"hello\" to uppercase"
      ],
      "metadata": {
        "id": "i5eh6xVhZbMk"
      }
    },
    {
      "cell_type": "code",
      "source": [
        "text = \"hello\"\n",
        "print(text.upper())\n"
      ],
      "metadata": {
        "colab": {
          "base_uri": "https://localhost:8080/"
        },
        "id": "SUOCU6J3ZeSg",
        "outputId": "25bbe93c-ff4c-4e76-9f86-177fd164ab56"
      },
      "execution_count": 16,
      "outputs": [
        {
          "output_type": "stream",
          "name": "stdout",
          "text": [
            "HELLO\n"
          ]
        }
      ]
    },
    {
      "cell_type": "markdown",
      "source": [
        "###5. Write a code to replace the word \"apple\" with \"orange\" in the string \"I like apple\""
      ],
      "metadata": {
        "id": "cSh8agmcZjDC"
      }
    },
    {
      "cell_type": "code",
      "source": [
        "text = \"I like apple\"\n",
        "print(text.replace(\"apple\", \"orange\"))\n"
      ],
      "metadata": {
        "colab": {
          "base_uri": "https://localhost:8080/"
        },
        "id": "fhY5eWEqZoZY",
        "outputId": "6fab799c-cdb0-4519-ef48-c1ab77ecf3c8"
      },
      "execution_count": 17,
      "outputs": [
        {
          "output_type": "stream",
          "name": "stdout",
          "text": [
            "I like orange\n"
          ]
        }
      ]
    },
    {
      "cell_type": "markdown",
      "source": [
        "###6. Write a code to create a list with numbers 1 to 5 and print it"
      ],
      "metadata": {
        "id": "r8j-IGYfZvzJ"
      }
    },
    {
      "cell_type": "code",
      "source": [
        "numbers = [1, 2, 3, 4, 5]\n",
        "print(numbers)\n"
      ],
      "metadata": {
        "colab": {
          "base_uri": "https://localhost:8080/"
        },
        "id": "X8uFW1mNZy7_",
        "outputId": "a82cd272-9dbc-47fd-e6c8-0a4bf9aa0b51"
      },
      "execution_count": 18,
      "outputs": [
        {
          "output_type": "stream",
          "name": "stdout",
          "text": [
            "[1, 2, 3, 4, 5]\n"
          ]
        }
      ]
    },
    {
      "cell_type": "markdown",
      "source": [
        "###7. Write a code to append the number 10 to the list [1, 2, 3, 4]"
      ],
      "metadata": {
        "id": "EXw93Jo9aFUE"
      }
    },
    {
      "cell_type": "code",
      "source": [
        "numbers = [1, 2, 3, 4]\n",
        "numbers.append(10)\n",
        "print(numbers)\n"
      ],
      "metadata": {
        "colab": {
          "base_uri": "https://localhost:8080/"
        },
        "id": "b5XTcn7naI5W",
        "outputId": "e0cc6949-4615-479a-fcd9-abf9f17aa259"
      },
      "execution_count": 19,
      "outputs": [
        {
          "output_type": "stream",
          "name": "stdout",
          "text": [
            "[1, 2, 3, 4, 10]\n"
          ]
        }
      ]
    },
    {
      "cell_type": "markdown",
      "source": [
        "###8. Write a code to remove the number 3 from the list [1, 2, 3, 4, 5]"
      ],
      "metadata": {
        "id": "MJL2YrkfaRro"
      }
    },
    {
      "cell_type": "code",
      "source": [
        "numbers = [1, 2, 3, 4, 5]\n",
        "numbers.remove(3)\n",
        "print(numbers)\n"
      ],
      "metadata": {
        "colab": {
          "base_uri": "https://localhost:8080/"
        },
        "id": "5MxNbQhoaUOn",
        "outputId": "db180289-22dc-423c-d7e2-4e902a00ccac"
      },
      "execution_count": 20,
      "outputs": [
        {
          "output_type": "stream",
          "name": "stdout",
          "text": [
            "[1, 2, 4, 5]\n"
          ]
        }
      ]
    },
    {
      "cell_type": "markdown",
      "source": [
        "###9. Write a code to access the second element in the list ['a', 'b', 'c', 'd']"
      ],
      "metadata": {
        "id": "KoETs1QraaNI"
      }
    },
    {
      "cell_type": "code",
      "source": [
        "letters = ['a', 'b', 'c', 'd']\n",
        "print(letters[1])\n"
      ],
      "metadata": {
        "colab": {
          "base_uri": "https://localhost:8080/"
        },
        "id": "BLC3LB3cadHi",
        "outputId": "b98befb4-72c4-48f2-a201-3f4ed56e336a"
      },
      "execution_count": 21,
      "outputs": [
        {
          "output_type": "stream",
          "name": "stdout",
          "text": [
            "b\n"
          ]
        }
      ]
    },
    {
      "cell_type": "markdown",
      "source": [
        "###10. Write a code to reverse the list [10, 20, 30, 40, 50]"
      ],
      "metadata": {
        "id": "rsxjVQXOajUF"
      }
    },
    {
      "cell_type": "code",
      "source": [
        "numbers = [10, 20, 30, 40, 50]\n",
        "numbers.reverse()\n",
        "print(numbers)\n"
      ],
      "metadata": {
        "colab": {
          "base_uri": "https://localhost:8080/"
        },
        "id": "ZDCTLawkalZK",
        "outputId": "81718b57-6a85-4024-b6f3-3703a80899a3"
      },
      "execution_count": 22,
      "outputs": [
        {
          "output_type": "stream",
          "name": "stdout",
          "text": [
            "[50, 40, 30, 20, 10]\n"
          ]
        }
      ]
    },
    {
      "cell_type": "markdown",
      "source": [
        "###11. Write a code to create a tuple with the elements 100, 200, 300 and print it"
      ],
      "metadata": {
        "id": "mCBpyCsAaqPi"
      }
    },
    {
      "cell_type": "code",
      "source": [
        "my_tuple = (100, 200, 300)\n",
        "print(my_tuple)\n"
      ],
      "metadata": {
        "colab": {
          "base_uri": "https://localhost:8080/"
        },
        "id": "PQ1wqhFXatuX",
        "outputId": "b26444a5-9bda-43fd-fd72-26e7a589cab6"
      },
      "execution_count": 23,
      "outputs": [
        {
          "output_type": "stream",
          "name": "stdout",
          "text": [
            "(100, 200, 300)\n"
          ]
        }
      ]
    },
    {
      "cell_type": "markdown",
      "source": [
        "###12. Write a code to access the second-to-last element of the tuple ('red', 'green', 'blue', 'yellow')"
      ],
      "metadata": {
        "id": "F7OhsvfTaxp4"
      }
    },
    {
      "cell_type": "code",
      "source": [
        "colors = ('red', 'green', 'blue', 'yellow')\n",
        "print(colors[-2])\n"
      ],
      "metadata": {
        "colab": {
          "base_uri": "https://localhost:8080/"
        },
        "id": "sA78Gylwa0QY",
        "outputId": "8e8c39cc-3433-44a9-eead-4fb97bf0cb95"
      },
      "execution_count": 24,
      "outputs": [
        {
          "output_type": "stream",
          "name": "stdout",
          "text": [
            "blue\n"
          ]
        }
      ]
    },
    {
      "cell_type": "markdown",
      "source": [
        "###13. Write a code to find the minimum number in the tuple (10, 20, 5, 15)"
      ],
      "metadata": {
        "id": "QMYar_8Ia45m"
      }
    },
    {
      "cell_type": "code",
      "source": [
        "numbers = (10, 20, 5, 15)\n",
        "print(min(numbers))\n"
      ],
      "metadata": {
        "colab": {
          "base_uri": "https://localhost:8080/"
        },
        "id": "yc_EKPTZa7PJ",
        "outputId": "3cce9782-e76b-42e6-f83e-429c980b6d2b"
      },
      "execution_count": 25,
      "outputs": [
        {
          "output_type": "stream",
          "name": "stdout",
          "text": [
            "5\n"
          ]
        }
      ]
    },
    {
      "cell_type": "markdown",
      "source": [
        "###14. Write a code to find the index of the element \"cat\" in the tuple ('dog', 'cat', 'rabbit')"
      ],
      "metadata": {
        "id": "Jdo64Xqya_sV"
      }
    },
    {
      "cell_type": "code",
      "source": [
        "animals = ('dog', 'cat', 'rabbit')\n",
        "print(animals.index(\"cat\"))\n"
      ],
      "metadata": {
        "colab": {
          "base_uri": "https://localhost:8080/"
        },
        "id": "n1sVDLEjbFwZ",
        "outputId": "27dcd242-16f0-4573-bacc-d5ed9b453d5d"
      },
      "execution_count": 26,
      "outputs": [
        {
          "output_type": "stream",
          "name": "stdout",
          "text": [
            "1\n"
          ]
        }
      ]
    },
    {
      "cell_type": "markdown",
      "source": [
        "###15. Write a code to create a tuple containing three different fruits and check if \"kiwi\" is in it"
      ],
      "metadata": {
        "id": "8U9ctH78bJa-"
      }
    },
    {
      "cell_type": "code",
      "source": [
        "fruits = (\"apple\", \"banana\", \"orange\")\n",
        "print(\"kiwi\" in fruits)\n"
      ],
      "metadata": {
        "colab": {
          "base_uri": "https://localhost:8080/"
        },
        "id": "6qXe0rw9bPYs",
        "outputId": "f2523f0e-a517-4beb-f075-9285abefc3f7"
      },
      "execution_count": 27,
      "outputs": [
        {
          "output_type": "stream",
          "name": "stdout",
          "text": [
            "False\n"
          ]
        }
      ]
    },
    {
      "cell_type": "markdown",
      "source": [
        "###16. Write a code to create a set with the elements 'a', 'b', 'c' and print it"
      ],
      "metadata": {
        "id": "ik-F4qkwbWhb"
      }
    },
    {
      "cell_type": "code",
      "source": [
        "my_set = {'a', 'b', 'c'}\n",
        "print(my_set)\n"
      ],
      "metadata": {
        "colab": {
          "base_uri": "https://localhost:8080/"
        },
        "id": "zqVr9nitbZbW",
        "outputId": "945e9d70-2d07-4949-e7d7-97d52fac27ae"
      },
      "execution_count": 28,
      "outputs": [
        {
          "output_type": "stream",
          "name": "stdout",
          "text": [
            "{'c', 'b', 'a'}\n"
          ]
        }
      ]
    },
    {
      "cell_type": "markdown",
      "source": [
        "###17. Write a code to clear all elements from the set {1, 2, 3, 4, 5}"
      ],
      "metadata": {
        "id": "XqDo_UUtbdVW"
      }
    },
    {
      "cell_type": "code",
      "source": [
        "my_set = {1, 2, 3, 4, 5}\n",
        "my_set.clear()\n",
        "print(my_set)\n"
      ],
      "metadata": {
        "colab": {
          "base_uri": "https://localhost:8080/"
        },
        "id": "7OGd5QRgbev9",
        "outputId": "feb1975f-3a34-48fc-fb02-10c062d5969a"
      },
      "execution_count": 29,
      "outputs": [
        {
          "output_type": "stream",
          "name": "stdout",
          "text": [
            "set()\n"
          ]
        }
      ]
    },
    {
      "cell_type": "markdown",
      "source": [
        "###18. Write a code to remove the element 4 from the set {1, 2, 3, 4}"
      ],
      "metadata": {
        "id": "cnvmgfhAbiI_"
      }
    },
    {
      "cell_type": "code",
      "source": [
        "my_set = {1, 2, 3, 4}\n",
        "my_set.remove(4)\n",
        "print(my_set)\n"
      ],
      "metadata": {
        "colab": {
          "base_uri": "https://localhost:8080/"
        },
        "id": "uSoGu2BHbm68",
        "outputId": "beb7c3de-e73b-4f58-a194-c4b57cc183e9"
      },
      "execution_count": 30,
      "outputs": [
        {
          "output_type": "stream",
          "name": "stdout",
          "text": [
            "{1, 2, 3}\n"
          ]
        }
      ]
    },
    {
      "cell_type": "markdown",
      "source": [
        "###19. Write a code to find the union of two sets {1, 2, 3} and {3, 4, 5}"
      ],
      "metadata": {
        "id": "12uoymnRbtRU"
      }
    },
    {
      "cell_type": "code",
      "source": [
        "set1 = {1, 2, 3}\n",
        "set2 = {3, 4, 5}\n",
        "print(set1.union(set2))\n"
      ],
      "metadata": {
        "colab": {
          "base_uri": "https://localhost:8080/"
        },
        "id": "DnQsE8Knbuuj",
        "outputId": "5e867d09-759d-49f0-d749-77f5f371140c"
      },
      "execution_count": 31,
      "outputs": [
        {
          "output_type": "stream",
          "name": "stdout",
          "text": [
            "{1, 2, 3, 4, 5}\n"
          ]
        }
      ]
    },
    {
      "cell_type": "markdown",
      "source": [
        "###20. Write a code to find the intersection of two sets {1, 2, 3} and {2, 3, 4}\n"
      ],
      "metadata": {
        "id": "ELxh2XENb11b"
      }
    },
    {
      "cell_type": "code",
      "source": [
        "set1 = {1, 2, 3}\n",
        "set2 = {2, 3, 4}\n",
        "print(set1.intersection(set2))\n"
      ],
      "metadata": {
        "colab": {
          "base_uri": "https://localhost:8080/"
        },
        "id": "qIRlvQDKb5sC",
        "outputId": "8e8e2788-7d50-48b6-c01d-d182bfaed6fd"
      },
      "execution_count": 32,
      "outputs": [
        {
          "output_type": "stream",
          "name": "stdout",
          "text": [
            "{2, 3}\n"
          ]
        }
      ]
    },
    {
      "cell_type": "markdown",
      "source": [
        "###21. Write a code to create a dictionary with the keys \"name\", \"age\", and \"city\", and print it"
      ],
      "metadata": {
        "id": "GGr_Vn6Ab-P8"
      }
    },
    {
      "cell_type": "code",
      "source": [
        "person = {\"name\": \"John\", \"age\": 25, \"city\": \"New York\"}\n",
        "print(person)\n"
      ],
      "metadata": {
        "colab": {
          "base_uri": "https://localhost:8080/"
        },
        "id": "p9ex2oUsb_yZ",
        "outputId": "a9e53d2e-3e8f-4631-ecfd-55c27ddc8397"
      },
      "execution_count": 33,
      "outputs": [
        {
          "output_type": "stream",
          "name": "stdout",
          "text": [
            "{'name': 'John', 'age': 25, 'city': 'New York'}\n"
          ]
        }
      ]
    },
    {
      "cell_type": "markdown",
      "source": [
        "###22. Write a code to add a new key-value pair \"country\": \"USA\" to the dictionary {'name': 'John', 'age': 25}"
      ],
      "metadata": {
        "id": "bECJqqtvcFRM"
      }
    },
    {
      "cell_type": "code",
      "source": [
        "person = {'name': 'John', 'age': 25}\n",
        "person[\"country\"] = \"USA\"\n",
        "print(person)\n"
      ],
      "metadata": {
        "colab": {
          "base_uri": "https://localhost:8080/"
        },
        "id": "tLJXKEnbcH7X",
        "outputId": "04160879-0d3d-4d86-f3c3-91ea86584554"
      },
      "execution_count": 34,
      "outputs": [
        {
          "output_type": "stream",
          "name": "stdout",
          "text": [
            "{'name': 'John', 'age': 25, 'country': 'USA'}\n"
          ]
        }
      ]
    },
    {
      "cell_type": "markdown",
      "source": [
        "###23. Write a code to access the value associated with the key \"name\" in the dictionary {'name': 'Alice', 'age': 30}"
      ],
      "metadata": {
        "id": "KumLUzficMH_"
      }
    },
    {
      "cell_type": "code",
      "source": [
        "person = {'name': 'Alice', 'age': 30}\n",
        "print(person[\"name\"])\n"
      ],
      "metadata": {
        "colab": {
          "base_uri": "https://localhost:8080/"
        },
        "id": "WZSLKbcocOw3",
        "outputId": "3b401c26-37dd-4cf9-f3fc-e2cc11f116c9"
      },
      "execution_count": 35,
      "outputs": [
        {
          "output_type": "stream",
          "name": "stdout",
          "text": [
            "Alice\n"
          ]
        }
      ]
    },
    {
      "cell_type": "markdown",
      "source": [
        "###24. Write a code to remove the key \"age\" from the dictionary {'name': 'Bob', 'age': 22, 'city': 'New York'}"
      ],
      "metadata": {
        "id": "h1TM5n39cSzu"
      }
    },
    {
      "cell_type": "code",
      "source": [
        "person = {'name': 'Bob', 'age': 22, 'city': 'New York'}\n",
        "del person[\"age\"]\n",
        "print(person)\n"
      ],
      "metadata": {
        "colab": {
          "base_uri": "https://localhost:8080/"
        },
        "id": "0yq1NbD0cV1p",
        "outputId": "889a3b67-9188-412b-c372-96c27d598ae5"
      },
      "execution_count": 36,
      "outputs": [
        {
          "output_type": "stream",
          "name": "stdout",
          "text": [
            "{'name': 'Bob', 'city': 'New York'}\n"
          ]
        }
      ]
    },
    {
      "cell_type": "markdown",
      "source": [
        "###25. Write a code to check if the key \"city\" exists in the dictionary {'name': 'Alice', 'city': 'Paris'}"
      ],
      "metadata": {
        "id": "0_HQY37IcbyS"
      }
    },
    {
      "cell_type": "code",
      "source": [
        "person = {'name': 'Alice', 'city': 'Paris'}\n",
        "print(\"city\" in person)\n"
      ],
      "metadata": {
        "colab": {
          "base_uri": "https://localhost:8080/"
        },
        "id": "4xvb8mSlceLM",
        "outputId": "efd01e48-f7ca-4716-b8fa-fccb8290f1d6"
      },
      "execution_count": 37,
      "outputs": [
        {
          "output_type": "stream",
          "name": "stdout",
          "text": [
            "True\n"
          ]
        }
      ]
    },
    {
      "cell_type": "markdown",
      "source": [
        "###26. Write a code to create a list, a tuple, and a dictionary, and print them all"
      ],
      "metadata": {
        "id": "iCXGbTUXcfm8"
      }
    },
    {
      "cell_type": "code",
      "source": [
        "my_list = [1, 2, 3]\n",
        "my_tuple = (4, 5, 6)\n",
        "my_dict = {\"a\": 1, \"b\": 2}\n",
        "print(my_list, my_tuple, my_dict)\n"
      ],
      "metadata": {
        "colab": {
          "base_uri": "https://localhost:8080/"
        },
        "id": "OPELMTXBckIK",
        "outputId": "62ee0b61-b65e-4e34-8330-2716110564a2"
      },
      "execution_count": 38,
      "outputs": [
        {
          "output_type": "stream",
          "name": "stdout",
          "text": [
            "[1, 2, 3] (4, 5, 6) {'a': 1, 'b': 2}\n"
          ]
        }
      ]
    },
    {
      "cell_type": "markdown",
      "source": [
        "###27. Write a code to create a list of 5 random numbers between 1 and 100, sort it in ascending order, and print the result"
      ],
      "metadata": {
        "id": "b9VDIjW3cnuo"
      }
    },
    {
      "cell_type": "code",
      "source": [
        "import random\n",
        "numbers = random.sample(range(1, 101), 5)\n",
        "numbers.sort()\n",
        "print(numbers)\n"
      ],
      "metadata": {
        "colab": {
          "base_uri": "https://localhost:8080/"
        },
        "id": "gJz5BlSUcqeI",
        "outputId": "31a85982-36a8-433b-ac6f-4bb21d453891"
      },
      "execution_count": 39,
      "outputs": [
        {
          "output_type": "stream",
          "name": "stdout",
          "text": [
            "[32, 56, 61, 89, 97]\n"
          ]
        }
      ]
    },
    {
      "cell_type": "markdown",
      "source": [
        "###28. Write a code to create a list with strings and print the element at the third index"
      ],
      "metadata": {
        "id": "1MP4fnlMctyy"
      }
    },
    {
      "cell_type": "code",
      "source": [
        "words = [\"apple\", \"banana\", \"cherry\", \"date\", \"elderberry\"]\n",
        "print(words[3])  # Fourth item, index = 3\n"
      ],
      "metadata": {
        "colab": {
          "base_uri": "https://localhost:8080/"
        },
        "id": "iJ0uy5EycxYS",
        "outputId": "58523a8d-4e23-456e-8050-95dca9bca760"
      },
      "execution_count": 40,
      "outputs": [
        {
          "output_type": "stream",
          "name": "stdout",
          "text": [
            "date\n"
          ]
        }
      ]
    },
    {
      "cell_type": "markdown",
      "source": [
        "###29. Write a code to combine two dictionaries into one and print the result"
      ],
      "metadata": {
        "id": "BAYGJbwmc3Tq"
      }
    },
    {
      "cell_type": "code",
      "source": [
        "dict1 = {\"a\": 1, \"b\": 2}\n",
        "dict2 = {\"c\": 3, \"d\": 4}\n",
        "combined = {**dict1, **dict2}\n",
        "print(combined)\n"
      ],
      "metadata": {
        "colab": {
          "base_uri": "https://localhost:8080/"
        },
        "id": "XQc5J5C1c5rw",
        "outputId": "416579e8-b0ab-41a3-ecd6-aa260560f073"
      },
      "execution_count": 41,
      "outputs": [
        {
          "output_type": "stream",
          "name": "stdout",
          "text": [
            "{'a': 1, 'b': 2, 'c': 3, 'd': 4}\n"
          ]
        }
      ]
    },
    {
      "cell_type": "markdown",
      "source": [
        "###30. Write a code to convert a list of strings into a set"
      ],
      "metadata": {
        "id": "Nj7dWjfac9vp"
      }
    },
    {
      "cell_type": "code",
      "source": [
        "string_list = [\"apple\", \"banana\", \"apple\", \"orange\"]\n",
        "string_set = set(string_list)\n",
        "print(string_set)\n"
      ],
      "metadata": {
        "id": "uaRlcsrjc_vK",
        "outputId": "f99e2738-8748-42df-9418-091750ceb800",
        "colab": {
          "base_uri": "https://localhost:8080/"
        }
      },
      "execution_count": 42,
      "outputs": [
        {
          "output_type": "stream",
          "name": "stdout",
          "text": [
            "{'orange', 'banana', 'apple'}\n"
          ]
        }
      ]
    },
    {
      "cell_type": "markdown",
      "source": [],
      "metadata": {
        "id": "zjhHudAzcwNR"
      }
    }
  ]
}